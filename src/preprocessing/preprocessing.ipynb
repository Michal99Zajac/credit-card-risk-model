{
 "cells": [
  {
   "cell_type": "code",
   "execution_count": 3,
   "metadata": {},
   "outputs": [],
   "source": [
    "# import all external packages\n",
    "import pandas as pd\n",
    "import numpy as np\n",
    "import sys\n",
    "import os\n"
   ]
  },
  {
   "cell_type": "code",
   "execution_count": 4,
   "metadata": {},
   "outputs": [],
   "source": [
    "# add current path as a root\n",
    "sys.path.append(os.getcwd())"
   ]
  },
  {
   "cell_type": "code",
   "execution_count": 20,
   "metadata": {},
   "outputs": [],
   "source": [
    "# import all created packages\n",
    "from converting.to_binary_columns import to_binary_columns\n",
    "from converting.to_enum import to_enum\n",
    "from supplementing.simple.by_mode import by_mode\n",
    "from supplementing.simple.by_mean import by_mean\n",
    "from supplementing.complex.by_regression import by_regression"
   ]
  },
  {
   "cell_type": "code",
   "execution_count": 107,
   "metadata": {},
   "outputs": [
    {
     "data": {
      "text/plain": [
       "0    5.0\n",
       "1    5.0\n",
       "2    5.0\n",
       "3    0.0\n",
       "4    5.0\n",
       "5    0.0\n",
       "Name: name, dtype: float64"
      ]
     },
     "execution_count": 107,
     "metadata": {},
     "output_type": "execute_result"
    }
   ],
   "source": [
    "sample_data = pd.DataFrame({\n",
    "    \"category name\": [\"a b\", None, None, \"a\", \"b\", \"c\"],\n",
    "    \"name\": [5, 5, 5, None, 0, 0],\n",
    "    \"lastname\": [\"z\", \"z\", \"c\", \"z\", \"z\", \"c\"]\n",
    "})\n",
    "\n",
    "# Get the non-missing values\n",
    "not_missing = sample_data[\"name\"].dropna()\n",
    "\n",
    "# Calculate the probability distribution of the non-missing values\n",
    "prob_distribution = not_missing.value_counts(normalize=True)\n",
    "\n",
    "# Fill missing values by sampling from the calculated distribution\n",
    "missing_values = sample_data[\"name\"].isnull()\n",
    "sample_data.loc[missing_values, \"name\"] = np.random.choice(\n",
    "    prob_distribution.index,\n",
    "    size=missing_values.sum(),\n",
    "    p=prob_distribution.values\n",
    ")\n",
    "\n",
    "sample_data[\"name\"]"
   ]
  }
 ],
 "metadata": {
  "kernelspec": {
   "display_name": "mow-QOMKVymr-py3.11",
   "language": "python",
   "name": "python3"
  },
  "language_info": {
   "codemirror_mode": {
    "name": "ipython",
    "version": 3
   },
   "file_extension": ".py",
   "mimetype": "text/x-python",
   "name": "python",
   "nbconvert_exporter": "python",
   "pygments_lexer": "ipython3",
   "version": "3.11.3"
  },
  "orig_nbformat": 4
 },
 "nbformat": 4,
 "nbformat_minor": 2
}
