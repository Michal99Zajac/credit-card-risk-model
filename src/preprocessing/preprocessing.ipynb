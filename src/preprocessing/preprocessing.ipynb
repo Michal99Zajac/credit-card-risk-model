{
 "cells": [
  {
   "cell_type": "code",
   "execution_count": 143,
   "metadata": {},
   "outputs": [],
   "source": [
    "# import all external packages\n",
    "import pandas as pd\n",
    "import numpy as np\n",
    "import sys\n",
    "import os\n"
   ]
  },
  {
   "cell_type": "code",
   "execution_count": 4,
   "metadata": {},
   "outputs": [],
   "source": [
    "# add current path as a root\n",
    "sys.path.append(os.getcwd())"
   ]
  },
  {
   "cell_type": "code",
   "execution_count": 20,
   "metadata": {},
   "outputs": [],
   "source": [
    "# import all created packages\n",
    "from converting.to_binary_columns import to_binary_columns\n",
    "from converting.to_enum import to_enum\n",
    "from supplementing.simple.by_mode import by_mode\n",
    "from supplementing.simple.by_mean import by_mean\n",
    "from supplementing.complex.by_regression import by_regression"
   ]
  },
  {
   "cell_type": "code",
   "execution_count": 193,
   "metadata": {},
   "outputs": [
    {
     "data": {
      "text/plain": [
       "array([1. , 1. , 2. , 2.5, 3. , 2.5, 3.4, 2. , 5. , 3. , 6. , 4. ])"
      ]
     },
     "execution_count": 193,
     "metadata": {},
     "output_type": "execute_result"
    }
   ],
   "source": [
    "from sklearn.impute import KNNImputer\n",
    "\n",
    "sample_data = pd.DataFrame({\n",
    "    \"category name\": [1, None, None, 2, 3, 4],\n",
    "    \"name\": [1, 2, 3, None, 5, 6],\n",
    "    \"lastname\": [\"z\", \"z\", \"c\", \"z\", \"z\", \"c\"]\n",
    "})\n",
    "\n",
    "imputer = KNNImputer(n_neighbors=5)\n",
    "\n",
    "column_data = sample_data[[\"name\", \"category name\"]]\n",
    "\n",
    "imputed_data = imputer.fit_transform(column_data)\n",
    "\n",
    "imputed_data"
   ]
  }
 ],
 "metadata": {
  "kernelspec": {
   "display_name": "mow-QOMKVymr-py3.11",
   "language": "python",
   "name": "python3"
  },
  "language_info": {
   "codemirror_mode": {
    "name": "ipython",
    "version": 3
   },
   "file_extension": ".py",
   "mimetype": "text/x-python",
   "name": "python",
   "nbconvert_exporter": "python",
   "pygments_lexer": "ipython3",
   "version": "3.11.3"
  },
  "orig_nbformat": 4
 },
 "nbformat": 4,
 "nbformat_minor": 2
}
