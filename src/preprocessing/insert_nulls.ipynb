{
 "cells": [
  {
   "cell_type": "code",
   "execution_count": 1,
   "metadata": {},
   "outputs": [],
   "source": [
    "# import all external packages\n",
    "import pandas as pd\n",
    "import numpy as np\n",
    "import sys\n",
    "import os"
   ]
  },
  {
   "cell_type": "code",
   "execution_count": 2,
   "metadata": {},
   "outputs": [],
   "source": [
    "# add current path as a root\n",
    "sys.path.append(os.getcwd())"
   ]
  },
  {
   "cell_type": "code",
   "execution_count": 3,
   "metadata": {},
   "outputs": [],
   "source": [
    "# import all created packages\n",
    "from converting.insert_nulls import insert_nulls"
   ]
  },
  {
   "cell_type": "code",
   "execution_count": null,
   "metadata": {},
   "outputs": [],
   "source": [
    "# Read data from the CSV file\n",
    "file_path = \"../../data/orginal/credit_card_approval.csv\"\n",
    "data = pd.read_csv(file_path)\n",
    "\n",
    "# Exclude \"ID\" and \"TARGET\" columns from being filled with null values\n",
    "excluded_columns = [\n",
    "    \"ID\",\n",
    "    \"TARGET\",\n",
    "]\n",
    "\n",
    "# Fill with null values\n",
    "data_with_nulls = insert_nulls(\n",
    "    data,\n",
    "    percentage=0.1,\n",
    "    excluded_columns=excluded_columns,\n",
    ")\n",
    "\n",
    "# Save the data to a new CSV file\n",
    "data_with_nulls.to_csv(\n",
    "    \"../../data/orginal/credit_card_approval.csv\",\n",
    "    index=False,\n",
    ")"
   ]
  }
 ],
 "metadata": {
  "kernelspec": {
   "display_name": "mow-QOMKVymr-py3.11",
   "language": "python",
   "name": "python3"
  },
  "language_info": {
   "codemirror_mode": {
    "name": "ipython",
    "version": 3
   },
   "file_extension": ".py",
   "mimetype": "text/x-python",
   "name": "python",
   "nbconvert_exporter": "python",
   "pygments_lexer": "ipython3",
   "version": "3.11.3"
  },
  "orig_nbformat": 4
 },
 "nbformat": 4,
 "nbformat_minor": 2
}
